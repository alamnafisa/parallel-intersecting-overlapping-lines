{
 "cells": [
  {
   "cell_type": "code",
   "execution_count": 1,
   "metadata": {},
   "outputs": [
    {
     "name": "stdout",
     "output_type": "stream",
     "text": [
      "Please enter input for coefficient a1 for line 1 here: 3\n",
      "Please enter input for coefficient b1 for line 1 here: 2\n",
      "Please enter input for coefficient c1 for line 1 here: 1\n",
      "Please enter input for coefficient a2 for line 2 here: 1\n",
      "Please enter input for coefficient b2 for line 2 here: 2\n",
      "Please enter input for coefficient c2 for line 2 here: 3\n",
      "Based on the input values, lines A & B intersect\n"
     ]
    }
   ],
   "source": [
    "#Write a program that accepts the coefficients of the folllowing two lines as inputs\n",
    "#Line1:  𝑎1𝑥+𝑏1𝑦+𝑐1=0 \n",
    "#Line2:  𝑎2𝑥+𝑏2𝑦+𝑐2=0 \n",
    "#Then checks whether the two lines are parallel, intersecting or overlapping\n",
    "\n",
    "rulesPassed = 0\n",
    "\n",
    "printStatement1=\"Please enter input for coefficient a1 for line 1 here: \"\n",
    "printStatement2=\"Please enter input for coefficient b1 for line 1 here: \"\n",
    "printStatement3=\"Please enter input for coefficient c1 for line 1 here: \"\n",
    "printStatement4=\"Please enter input for coefficient a2 for line 2 here: \"\n",
    "printStatement5=\"Please enter input for coefficient b2 for line 2 here: \"\n",
    "printStatement6= \"Please enter input for coefficient c2 for line 2 here: \"\n",
    "\n",
    "def validateInput (u):\n",
    "    global rulesPassed\n",
    "    rulesPassed= False\n",
    "    while rulesPassed == False: \n",
    "        try:\n",
    "            Vals = float (input (u))\n",
    "        except ValueError:\n",
    "            print (\"Invalid input! Please enter a floating number or integer: \")\n",
    "            continue\n",
    "        rulesPassed = True\n",
    "        return (Vals)\n",
    "\n",
    "def isIntersecting (m,n,p,q):\n",
    "    div1= m/p\n",
    "    div2=  n/q\n",
    "    if div1 != div2:\n",
    "        print (\"Based on the input values, lines A & B intersect\")\n",
    "    else:\n",
    "        print (\"Based on the input values, lines A & B don't intersect\")\n",
    "        \n",
    "a1= validateInput (printStatement1)\n",
    "b1= validateInput (printStatement2)\n",
    "c1= validateInput (printStatement3)\n",
    "a2= validateInput (printStatement4)\n",
    "b2= validateInput (printStatement5)\n",
    "c2= validateInput (printStatement6)\n",
    "    \n",
    "intersectResult = isIntersecting (a1,b1,a2,b2)"
   ]
  },
  {
   "cell_type": "code",
   "execution_count": 2,
   "metadata": {},
   "outputs": [
    {
     "name": "stdout",
     "output_type": "stream",
     "text": [
      "Based on the input values, lines A & B are not parallel\n"
     ]
    }
   ],
   "source": [
    "#Parallel lines: If the lines are not intersecting and  𝑎1𝑎2=𝑏1𝑏2≠𝑐1𝑐2\n",
    "\n",
    "def isParallel (m,n,p,q,d,e):\n",
    "    div1= m/p\n",
    "    div2= n/q\n",
    "    div3= d/e\n",
    "    case1= div1==div2\n",
    "    case2= case1 != div3\n",
    "    \n",
    "    if case1== True and case2==True:\n",
    "        print (\"Based on the input values, lines A & B are parallel\")\n",
    "    else:\n",
    "        print (\"Based on the input values, lines A & B are not parallel\")\n",
    "\n",
    "parallelResult = isParallel (a1,b1,a2,b2,c1,c2)"
   ]
  },
  {
   "cell_type": "code",
   "execution_count": 3,
   "metadata": {},
   "outputs": [
    {
     "name": "stdout",
     "output_type": "stream",
     "text": [
      "Based on the input values, lines A & B are not Overlapping\n"
     ]
    }
   ],
   "source": [
    "#Overlapping lines: If the lines are not intersecting and  𝑎1𝑎2=𝑏1𝑏2=𝑐1𝑐2\n",
    "\n",
    "def isOverlapping (m,n,p,q,d,e):\n",
    "    div1= m/p\n",
    "    div2= n/q\n",
    "    div3= d/e\n",
    "    case1= div1==div2\n",
    "    case2= case1 == div3\n",
    "    \n",
    "    if case1== True and case2==True:\n",
    "        print (\"Based on the input values, lines A & B are Overlapping\")\n",
    "        \n",
    "    else:\n",
    "        print (\"Based on the input values, lines A & B are not Overlapping\")\n",
    "overlappingResult = isOverlapping (a1,b1,a2,b2,c1,c2)"
   ]
  },
  {
   "cell_type": "code",
   "execution_count": 4,
   "metadata": {},
   "outputs": [
    {
     "data": {
      "image/png": "[encoded data removed]",
      "text/plain": [
       "<Figure size 432x288 with 1 Axes>"
      ]
     },
     "metadata": {
      "needs_background": "light"
     },
     "output_type": "display_data"
    }
   ],
   "source": [
    "#Plot the two lines graphically using the matplotlib and numpy libraries or any other suitable libraries.\n",
    "\n",
    "import numpy as np \n",
    "from matplotlib import pyplot as plt \n",
    "x=0\n",
    "y=0\n",
    "def graphLines (m,n,p,q,d,e,x,y):\n",
    "    x = np.arange(-10, 15) \n",
    "    y=  (-a1*x - c1)/b1\n",
    "    plt.title(\"Line 1 & Line 2\") \n",
    "    plt.xlabel(\"x coordinates\") \n",
    "    plt.ylabel(\"y coordinates\") \n",
    "    plt.plot(x,y) \n",
    "\n",
    "    x = np.arange(-10, 15) \n",
    "    y=  (-a2*x - c2)/b2\n",
    "    plt.title(\"Line 1 & 2\") \n",
    "    plt.xlabel(\"x coordinates\") \n",
    "    plt.ylabel(\"y coordinates\") \n",
    "    plt.plot(x,y) \n",
    "    plt.show()\n",
    "drawGraphs = graphLines (a1,b1,a2,b2,c1,c2,x,y)"
   ]
  },
  {
   "cell_type": "code",
   "execution_count": null,
   "metadata": {},
   "outputs": [],
   "source": []
  },
  {
   "cell_type": "code",
   "execution_count": null,
   "metadata": {},
   "outputs": [],
   "source": []
  }
 ],
 "metadata": {
  "kernelspec": {
   "display_name": "Python 3",
   "language": "python",
   "name": "python3"
  },
  "language_info": {
   "codemirror_mode": {
    "name": "ipython",
    "version": 3
   },
   "file_extension": ".py",
   "mimetype": "text/x-python",
   "name": "python",
   "nbconvert_exporter": "python",
   "pygments_lexer": "ipython3",
   "version": "3.8.5"
  }
 },
 "nbformat": 4,
 "nbformat_minor": 4
}
